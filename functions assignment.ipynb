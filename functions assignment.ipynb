{
 "cells": [
  {
   "cell_type": "code",
   "execution_count": 2,
   "id": "72bb3003-857a-42fb-b7d7-0cc1c575b204",
   "metadata": {},
   "outputs": [],
   "source": [
    "\"\"\"Q1. Which keyword is used to create a function? Create a function to return a list of odd numbers in the \n",
    "range of 1 to 25.\"\"\""
   ]
  },
  {
   "cell_type": "code",
   "execution_count": 4,
   "id": "c671566e-fad4-43c9-853c-518d9ea9059b",
   "metadata": {},
   "outputs": [],
   "source": [
    "#1 ans) def keyword is used to create a function. "
   ]
  },
  {
   "cell_type": "code",
   "execution_count": 27,
   "id": "a96fd151-6dbc-4d46-9258-80f938a0d2fa",
   "metadata": {},
   "outputs": [],
   "source": [
    "l=(1,2,3,4,5,6,7,8,9,10,11,12,13,14,15,16,17,18,19,20,21,22,23,24,25)"
   ]
  },
  {
   "cell_type": "code",
   "execution_count": 28,
   "id": "ea4fd945-a560-4be5-b077-eb8d445347fe",
   "metadata": {},
   "outputs": [],
   "source": [
    "def test(a):\n",
    "    n=[]\n",
    "    for i in a:\n",
    "        if i%2!=0:\n",
    "            n.append(i)\n",
    "    return n"
   ]
  },
  {
   "cell_type": "code",
   "execution_count": 29,
   "id": "faf89671-1fb2-4964-b653-17ac1d3b9d52",
   "metadata": {},
   "outputs": [
    {
     "data": {
      "text/plain": [
       "[1, 3, 5, 7, 9, 11, 13, 15, 17, 19, 21, 23, 25]"
      ]
     },
     "execution_count": 29,
     "metadata": {},
     "output_type": "execute_result"
    }
   ],
   "source": [
    "test(l)"
   ]
  },
  {
   "cell_type": "code",
   "execution_count": null,
   "id": "f4ba834c-99e7-473a-bf56-eb5356450a9e",
   "metadata": {},
   "outputs": [],
   "source": [
    "\"\"\"Q2. Why *args and **kwargs is used in some functions? Create a function each for *args and **kwargs to \n",
    "demonstrate their use\"\"\""
   ]
  },
  {
   "cell_type": "code",
   "execution_count": null,
   "id": "f4a57e04-3e6c-42d9-ac82-be6449350429",
   "metadata": {},
   "outputs": [],
   "source": [
    "\"\"\"If we want to give the number of parameters as our wish,then *args will be used.\n",
    "Similarly if we want to give the number of paramenters as our wish for dictionaries then **kwargs is used.\"\"\""
   ]
  },
  {
   "cell_type": "code",
   "execution_count": 30,
   "id": "542a8e20-8550-4e09-a8c0-83bfc7ee3e15",
   "metadata": {},
   "outputs": [],
   "source": [
    "def test5(*bhanu):\n",
    "    return bhanu"
   ]
  },
  {
   "cell_type": "code",
   "execution_count": 31,
   "id": "e674f525-01d0-4ffa-818f-fc6ca59b6247",
   "metadata": {},
   "outputs": [
    {
     "data": {
      "text/plain": [
       "(1, 2, 3, 4, 5, 6)"
      ]
     },
     "execution_count": 31,
     "metadata": {},
     "output_type": "execute_result"
    }
   ],
   "source": [
    "test5(1,2,3,4,5,6)"
   ]
  },
  {
   "cell_type": "code",
   "execution_count": 32,
   "id": "ff9034a2-2537-4085-a5e5-e2db61a5a203",
   "metadata": {},
   "outputs": [],
   "source": [
    "def test55(**bhanu):\n",
    "    return bhanu"
   ]
  },
  {
   "cell_type": "code",
   "execution_count": 33,
   "id": "bd746754-3098-47e9-baad-13893d9a422a",
   "metadata": {},
   "outputs": [
    {
     "data": {
      "text/plain": [
       "{'a': 1, 'b': 2, 'c': 3, 'd': 4, 'e': 5}"
      ]
     },
     "execution_count": 33,
     "metadata": {},
     "output_type": "execute_result"
    }
   ],
   "source": [
    "test55(a=1,b=2,c=3,d=4,e=5)"
   ]
  },
  {
   "cell_type": "code",
   "execution_count": null,
   "id": "ac91fd77-5fac-44ab-b942-313604f94932",
   "metadata": {},
   "outputs": [],
   "source": [
    "\"\"\"Q3.  What is an iterator in python? Name the method used to initialise the iterator object and the method \n",
    "used for iteration. Use these methods to print the first five elements of the given list [2, 4, 6, 8, 10, 12, 14, 16, \n",
    "18, 20]\"\"\""
   ]
  },
  {
   "cell_type": "code",
   "execution_count": 1,
   "id": "3a892c41-995f-44e2-9a95-eecccd35f57d",
   "metadata": {},
   "outputs": [
    {
     "ename": "SyntaxError",
     "evalue": "incomplete input (1324502463.py, line 1)",
     "output_type": "error",
     "traceback": [
      "\u001b[0;36m  Cell \u001b[0;32mIn[1], line 1\u001b[0;36m\u001b[0m\n\u001b[0;31m    \"\"\"3ans)Iterators in python are objects which we can iterate.Lists,tuples,sets are\u001b[0m\n\u001b[0m    ^\u001b[0m\n\u001b[0;31mSyntaxError\u001b[0m\u001b[0;31m:\u001b[0m incomplete input\n"
     ]
    }
   ],
   "source": [
    "\"\"\"3ans)Iterators in python are objects which we can iterate.Lists,tuples,sets are \n",
    "not iterators but we can convert them into iterators by using the method \n",
    "\"iter\".The method used to initialise the iterator object it \"iter\" and used for \n",
    "iteration is \"next\".\"\"\"\n"
   ]
  },
  {
   "cell_type": "code",
   "execution_count": 2,
   "id": "7f28e1e5-b7bf-4065-85ad-3a30bd54ae72",
   "metadata": {},
   "outputs": [],
   "source": [
    "list=[2,4,6,8,10,12,14,16,18,20]\n",
    "list1=iter(list)"
   ]
  },
  {
   "cell_type": "code",
   "execution_count": 3,
   "id": "6987c102-28ae-4a16-a73d-9b56f9d4570a",
   "metadata": {},
   "outputs": [
    {
     "name": "stdout",
     "output_type": "stream",
     "text": [
      "2\n",
      "4\n",
      "6\n",
      "8\n",
      "10\n"
     ]
    }
   ],
   "source": [
    "print(next(list1))\n",
    "print(next(list1))\n",
    "print(next(list1))\n",
    "print(next(list1))\n",
    "print(next(list1))"
   ]
  },
  {
   "cell_type": "code",
   "execution_count": 5,
   "id": "fa7ba345-c264-4d6a-b0af-c0da539bc978",
   "metadata": {},
   "outputs": [],
   "source": [
    "\"\"\"Q4.  What is a generator function in python? Why yield keyword is used? Give an example of a generator \n",
    "function.\"\"\""
   ]
  },
  {
   "cell_type": "code",
   "execution_count": null,
   "id": "848ecf54-8729-41d3-852c-a7b971f7b653",
   "metadata": {},
   "outputs": [],
   "source": [
    "\"\"\"4ans)A generator functions is used to generate the values.It doesn't store the values.You can identify a function as a generator\n",
    "by the presence of the keyword \"yield\". Yield keyword is used rather than return. An example for generator is given below\"\"\""
   ]
  },
  {
   "cell_type": "code",
   "execution_count": 1,
   "id": "12d5a63b-3781-4a97-9061-8c22dfba8c82",
   "metadata": {},
   "outputs": [
    {
     "name": "stdout",
     "output_type": "stream",
     "text": [
      "<generator object generator at 0x7f5e9967d380>\n"
     ]
    }
   ],
   "source": [
    "def generator():\n",
    "    yield 'B'\n",
    "    yield 'H'\n",
    "    yield 'A'\n",
    "    yield 'N'\n",
    "    yield 'U'\n",
    "gen=generator()\n",
    "print(gen)"
   ]
  },
  {
   "cell_type": "code",
   "execution_count": 2,
   "id": "ce848e0f-90a2-4fe1-b2ca-d52176ba93bc",
   "metadata": {},
   "outputs": [
    {
     "name": "stdout",
     "output_type": "stream",
     "text": [
      "B\n",
      "H\n",
      "A\n",
      "N\n",
      "U\n"
     ]
    }
   ],
   "source": [
    "print(next(gen))\n",
    "print(next(gen))\n",
    "print(next(gen))\n",
    "print(next(gen))\n",
    "print(next(gen))"
   ]
  },
  {
   "cell_type": "code",
   "execution_count": null,
   "id": "91073f32-194f-402b-8767-5129516cc456",
   "metadata": {},
   "outputs": [],
   "source": [
    "\"\"\"Q5. Create a generator function for prime numbers less than 1000. Use the next() method to print the \n",
    "first 20 prime numbers.\"\"\""
   ]
  },
  {
   "cell_type": "code",
   "execution_count": 28,
   "id": "2255124e-3bc6-465d-9f7c-8414395e46ac",
   "metadata": {},
   "outputs": [],
   "source": [
    "def prime(num):\n",
    "    for i in range(2,num):\n",
    "        if num%i==0:\n",
    "            return False\n",
    "    return True\n",
    "def primegenerator(n):\n",
    "    num=2\n",
    "    while n:\n",
    "        if prime(num):\n",
    "            yield num \n",
    "            n-=1\n",
    "        num+=1\n",
    "    return\n",
    "it=primegenerator(20)"
   ]
  },
  {
   "cell_type": "code",
   "execution_count": 29,
   "id": "fade183d-82ec-468d-b694-5771ba4d6211",
   "metadata": {},
   "outputs": [
    {
     "name": "stdout",
     "output_type": "stream",
     "text": [
      "2\n",
      "3\n",
      "5\n",
      "7\n",
      "11\n",
      "13\n",
      "17\n",
      "19\n",
      "23\n",
      "29\n",
      "31\n",
      "37\n",
      "41\n",
      "43\n",
      "47\n",
      "53\n",
      "59\n",
      "61\n",
      "67\n",
      "71\n"
     ]
    }
   ],
   "source": [
    "print(next(it))\n",
    "print(next(it))\n",
    "print(next(it))\n",
    "print(next(it))\n",
    "print(next(it))\n",
    "print(next(it))\n",
    "print(next(it))\n",
    "print(next(it))\n",
    "print(next(it))\n",
    "print(next(it))\n",
    "print(next(it))\n",
    "print(next(it))\n",
    "print(next(it))\n",
    "print(next(it))\n",
    "print(next(it))\n",
    "print(next(it))\n",
    "print(next(it))\n",
    "print(next(it))\n",
    "print(next(it))\n",
    "print(next(it))"
   ]
  },
  {
   "cell_type": "code",
   "execution_count": null,
   "id": "8314fa37-c1fd-4e9a-a3a3-cb2a2327fb68",
   "metadata": {},
   "outputs": [],
   "source": []
  }
 ],
 "metadata": {
  "kernelspec": {
   "display_name": "Python 3 (ipykernel)",
   "language": "python",
   "name": "python3"
  },
  "language_info": {
   "codemirror_mode": {
    "name": "ipython",
    "version": 3
   },
   "file_extension": ".py",
   "mimetype": "text/x-python",
   "name": "python",
   "nbconvert_exporter": "python",
   "pygments_lexer": "ipython3",
   "version": "3.10.8"
  }
 },
 "nbformat": 4,
 "nbformat_minor": 5
}
